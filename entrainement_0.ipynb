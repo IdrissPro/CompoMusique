{
 "cells": [
  {
   "cell_type": "code",
   "execution_count": 1,
   "metadata": {},
   "outputs": [
    {
     "name": "stderr",
     "output_type": "stream",
     "text": [
      "2024-01-03 16:31:32.872590: I tensorflow/core/util/port.cc:113] oneDNN custom operations are on. You may see slightly different numerical results due to floating-point round-off errors from different computation orders. To turn them off, set the environment variable `TF_ENABLE_ONEDNN_OPTS=0`.\n",
      "2024-01-03 16:31:32.905717: I external/local_tsl/tsl/cuda/cudart_stub.cc:31] Could not find cuda drivers on your machine, GPU will not be used.\n",
      "2024-01-03 16:31:33.079595: E external/local_xla/xla/stream_executor/cuda/cuda_dnn.cc:9261] Unable to register cuDNN factory: Attempting to register factory for plugin cuDNN when one has already been registered\n",
      "2024-01-03 16:31:33.079668: E external/local_xla/xla/stream_executor/cuda/cuda_fft.cc:607] Unable to register cuFFT factory: Attempting to register factory for plugin cuFFT when one has already been registered\n",
      "2024-01-03 16:31:33.114594: E external/local_xla/xla/stream_executor/cuda/cuda_blas.cc:1515] Unable to register cuBLAS factory: Attempting to register factory for plugin cuBLAS when one has already been registered\n",
      "2024-01-03 16:31:33.182086: I external/local_tsl/tsl/cuda/cudart_stub.cc:31] Could not find cuda drivers on your machine, GPU will not be used.\n",
      "2024-01-03 16:31:33.183131: I tensorflow/core/platform/cpu_feature_guard.cc:182] This TensorFlow binary is optimized to use available CPU instructions in performance-critical operations.\n",
      "To enable the following instructions: AVX2 AVX512F AVX512_VNNI FMA, in other operations, rebuild TensorFlow with the appropriate compiler flags.\n",
      "2024-01-03 16:31:34.124788: W tensorflow/compiler/tf2tensorrt/utils/py_utils.cc:38] TF-TRT Warning: Could not find TensorRT\n",
      "/usr/lib/python3/dist-packages/scipy/__init__.py:146: UserWarning: A NumPy version >=1.17.3 and <1.25.0 is required for this version of SciPy (detected version 1.26.2\n",
      "  warnings.warn(f\"A NumPy version >={np_minversion} and <{np_maxversion}\"\n"
     ]
    }
   ],
   "source": [
    "\"\"\"\n",
    "READ ME\n",
    "Dans ce fichier nous retrouvons :\n",
    "    - les paramètres du dataset\n",
    "    - la création du modèle LSTM\n",
    "    - l'entrainement du modèle\n",
    "Bientot :\n",
    "    - enregister le modele\n",
    "    - utiliser le modele à volonté pour generer des notes de musiques\n",
    "    - ecouter la musique produite\n",
    "\"\"\"\n",
    "\n",
    "import numpy as np\n",
    "import pandas as pd\n",
    "from keras.models import Sequential\n",
    "from keras.layers import InputLayer, LSTM, Dense, Dropout, BatchNormalization\n",
    "from keras.callbacks import EarlyStopping"
   ]
  },
  {
   "cell_type": "code",
   "execution_count": 2,
   "metadata": {},
   "outputs": [],
   "source": [
    "# ------------------------------\n",
    "# Paramètres du Dataset\n",
    "# ------------------------------\n",
    "\n",
    "dataset = pd.read_csv(\"./MINI_1_LSTM_16notes.csv\")\n",
    "df = dataset.copy()\n",
    "\n",
    "df_train = df.sample(frac=0.7, random_state=0)\n",
    "df_valid = df.drop(df_train.index)\n",
    "\n",
    "X_train = np.array([ eval(k) for k in df_train['X']])\n",
    "X_test = np.array([ eval(k) for k in df_valid['X']])\n",
    "y_train = np.array([ eval(k) for k in df_train['Y']])\n",
    "y_test = np.array([ eval(k) for k in df_valid['Y']])\n",
    "\n",
    "nombreDeNotesPrecedentes = len(X_train[0]) # nombre de notes précédentes à prendre en compte\n",
    "formatNote = len(X_train[0][0]) # valeur de la note, durée, durée avant prochaine note\n"
   ]
  },
  {
   "cell_type": "code",
   "execution_count": 3,
   "metadata": {},
   "outputs": [
    {
     "name": "stdout",
     "output_type": "stream",
     "text": [
      "nombre de données :  15608\n",
      "-----------------------------\n",
      "format du X_train :  (10926, 15, 3)\n",
      "format du y_train :  (10926, 3)\n",
      "-----------------------------\n",
      "format du X_test :  (4682, 15, 3)\n",
      "format du y_test :  (4682, 3)\n",
      "-----------------------------\n",
      "nombreDeNotesPrecedentes :  15\n",
      "formatNote :  3\n"
     ]
    }
   ],
   "source": [
    "print(\"nombre de données : \", len(dataset))\n",
    "print(\"-----------------------------\")\n",
    "print(\"format du X_train : \", X_train.shape)\n",
    "print(\"format du y_train : \", y_train.shape)\n",
    "print(\"-----------------------------\")\n",
    "print(\"format du X_test : \", X_test.shape)\n",
    "print(\"format du y_test : \", y_test.shape)\n",
    "print(\"-----------------------------\")\n",
    "print(\"nombreDeNotesPrecedentes : \", nombreDeNotesPrecedentes)\n",
    "print(\"formatNote : \", formatNote)"
   ]
  },
  {
   "cell_type": "code",
   "execution_count": 4,
   "metadata": {},
   "outputs": [
    {
     "name": "stderr",
     "output_type": "stream",
     "text": [
      "2024-01-03 16:31:37.252541: I external/local_xla/xla/stream_executor/cuda/cuda_executor.cc:901] successful NUMA node read from SysFS had negative value (-1), but there must be at least one NUMA node, so returning NUMA node zero. See more at https://github.com/torvalds/linux/blob/v6.0/Documentation/ABI/testing/sysfs-bus-pci#L344-L355\n",
      "2024-01-03 16:31:37.255195: W tensorflow/core/common_runtime/gpu/gpu_device.cc:2256] Cannot dlopen some GPU libraries. Please make sure the missing libraries mentioned above are installed properly if you would like to use GPU. Follow the guide at https://www.tensorflow.org/install/gpu for how to download and setup the required libraries for your platform.\n",
      "Skipping registering GPU devices...\n"
     ]
    },
    {
     "name": "stdout",
     "output_type": "stream",
     "text": [
      "Model: \"sequential\"\n",
      "_________________________________________________________________\n",
      " Layer (type)                Output Shape              Param #   \n",
      "=================================================================\n",
      " lstm (LSTM)                 (None, 20)                1920      \n",
      "                                                                 \n",
      " dense (Dense)               (None, 3)                 63        \n",
      "                                                                 \n",
      "=================================================================\n",
      "Total params: 1983 (7.75 KB)\n",
      "Trainable params: 1983 (7.75 KB)\n",
      "Non-trainable params: 0 (0.00 Byte)\n",
      "_________________________________________________________________\n"
     ]
    }
   ],
   "source": [
    "# ------------------------------\n",
    "# Création du modèle\n",
    "# ------------------------------\n",
    "nombreDeNeurones = 20       # nombre de neurones dans la couche LSTM\n",
    "nombreDeBatch = 32          # nombre de subdivisions du jeu de données\n",
    "nombreDeEpoch = 20          # nombre de fois que l'on va parcourir le jeu de données\n",
    "nombreDeEpochPatient = 5    # nombre d'epoch sans amélioration avant d'arrêter l'apprentissage\n",
    "dropout=False\n",
    "batchNormalisation=False\n",
    "\n",
    "# Création d'un modèle séquentiel\n",
    "model = Sequential()\n",
    "\n",
    "# Couche d'entrée\n",
    "model.add( InputLayer(input_shape=(nombreDeNotesPrecedentes, formatNote)) )\n",
    "# Couche LSTM\n",
    "model.add( LSTM(nombreDeNeurones, activation='relu') )\n",
    "# Dropout de 20% qui sert à éviter le surapprentissage\n",
    "if dropout:\n",
    "    model.add( Dropout(0.2) ) \n",
    "# Batch Normalisation qui sert à normaliser les données d'entrée dans les différents batchs\n",
    "if batchNormalisation:\n",
    "    model.add( BatchNormalization() )\n",
    "# Couche de sortie\n",
    "model.add( Dense(formatNote) )\n",
    "# Compilation du modèle avec \n",
    "#   - la fonction de perte d'erreur quadratique moyenne\n",
    "#   - l'optimiseur 'rmsprop' qui est une descente de gradient stochastique \n",
    "#model.compile(loss='mean_squared_error', optimizer='adam')\n",
    "model.compile(optimizer='rmsprop', loss='mse',  metrics=['mae'])\n",
    "\n",
    "# Afficher le résumé du modèle\n",
    "model.summary()"
   ]
  },
  {
   "cell_type": "code",
   "execution_count": 5,
   "metadata": {},
   "outputs": [
    {
     "name": "stdout",
     "output_type": "stream",
     "text": [
      "Epoch 1/20\n",
      "342/342 [==============================] - 10s 19ms/step - loss: 51788.0742 - mae: 82.7831 - val_loss: 47213.9727 - val_mae: 75.1979\n",
      "Epoch 2/20\n",
      "342/342 [==============================] - 6s 17ms/step - loss: 44011.3359 - mae: 71.5551 - val_loss: 45367.7617 - val_mae: 74.2321\n",
      "Epoch 3/20\n",
      "342/342 [==============================] - 6s 17ms/step - loss: 42955.1055 - mae: 68.7160 - val_loss: 43497.9570 - val_mae: 70.4661\n",
      "Epoch 4/20\n",
      "342/342 [==============================] - 6s 17ms/step - loss: 42368.2852 - mae: 68.1663 - val_loss: 43805.9141 - val_mae: 70.0145\n",
      "Epoch 5/20\n",
      "342/342 [==============================] - 6s 17ms/step - loss: 41790.8594 - mae: 68.7184 - val_loss: 45810.3828 - val_mae: 73.4599\n",
      "Epoch 6/20\n",
      "342/342 [==============================] - 6s 17ms/step - loss: 41739.8711 - mae: 70.0220 - val_loss: 45880.7227 - val_mae: 70.9655\n",
      "Epoch 7/20\n",
      "342/342 [==============================] - 7s 20ms/step - loss: 42773.1367 - mae: 68.2558 - val_loss: 45476.5508 - val_mae: 69.9903\n",
      "Epoch 8/20\n",
      "342/342 [==============================] - 6s 18ms/step - loss: 42862.2891 - mae: 68.4673 - val_loss: 44342.8984 - val_mae: 70.6249\n",
      "Erreur minimale atteinte : 43497.95703125\n"
     ]
    },
    {
     "data": {
      "image/png": "[encoded data removed]",
      "text/plain": [
       "<Figure size 432x288 with 1 Axes>"
      ]
     },
     "metadata": {
      "needs_background": "light"
     },
     "output_type": "display_data"
    }
   ],
   "source": [
    "# ------------------------------\n",
    "# Apprentissage sur nos données\n",
    "# ------------------------------\n",
    "# Callback pour arrêter l'apprentissage si la perte ne diminue plus\n",
    "early_stopping = EarlyStopping(\n",
    "    min_delta=0.001, # quantité minimale considérable comme une amélioration\n",
    "    patience=nombreDeEpochPatient,\n",
    "    restore_best_weights=True,\n",
    ")\n",
    "\n",
    "# Entrainement du modèle\n",
    "history = model.fit(\n",
    "    X_train, y_train,\n",
    "    validation_data=(X_test, y_test),\n",
    "    batch_size=nombreDeBatch,\n",
    "    epochs=nombreDeEpoch,\n",
    "    callbacks=[early_stopping],\n",
    ")\n",
    "\n",
    "# Afficher la courbe d'apprentissage\n",
    "history_df = pd.DataFrame(history.history)\n",
    "history_df.loc[:, ['loss', 'val_loss']].plot()\n",
    "print(\"Erreur minimale atteinte : {}\".format(history_df['val_loss'].min()))\n"
   ]
  }
 ],
 "metadata": {
  "kernelspec": {
   "display_name": "Python 3",
   "language": "python",
   "name": "python3"
  },
  "language_info": {
   "codemirror_mode": {
    "name": "ipython",
    "version": 3
   },
   "file_extension": ".py",
   "mimetype": "text/x-python",
   "name": "python",
   "nbconvert_exporter": "python",
   "pygments_lexer": "ipython3",
   "version": "3.10.12"
  }
 },
 "nbformat": 4,
 "nbformat_minor": 2
}
